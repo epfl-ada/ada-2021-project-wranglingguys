{
 "cells": [
  {
   "cell_type": "markdown",
   "metadata": {},
   "source": [
    "## Load the .parquet file to get all the speakers with political parties"
   ]
  },
  {
   "cell_type": "code",
   "execution_count": 14,
   "metadata": {},
   "outputs": [],
   "source": [
    "import pandas as pd\n",
    "import pywikibot\n",
    "import os\n",
    "\n",
    "data_dir = '../../data/'\n",
    "# Get all the speakers that have a party in the parquet file\n",
    "parquet_dir = data_dir + 'speaker_attributes/speaker_attributes.parquet/'\n",
    "politicians = pd.DataFrame(columns=['id', 'label', 'party'])\n",
    "for file in os.listdir(parquet_dir):\n",
    "    if file.endswith('.parquet'):\n",
    "        df = pd.read_parquet(os.path.join(parquet_dir, file))\n",
    "        politicians = politicians.append(df.loc[df.party.notnull(), ['id', 'label', 'party']])         # Speakers with a political party\n",
    "politicians.set_index('id', inplace=True)"
   ]
  },
  {
   "cell_type": "markdown",
   "metadata": {},
   "source": [
    "## Get all the different political parties"
   ]
  },
  {
   "cell_type": "code",
   "execution_count": 2,
   "metadata": {},
   "outputs": [
    {
     "name": "stdout",
     "output_type": "stream",
     "text": [
      "Number of politicians: 399176 Number of parties: 9632\n"
     ]
    }
   ],
   "source": [
    "# Get the list of parties\n",
    "parties = pd.DataFrame(index=politicians['party'].explode().unique())\n",
    "print('Number of politicians:', len(politicians), 'Number of parties:', len(parties))"
   ]
  },
  {
   "cell_type": "markdown",
   "metadata": {},
   "source": [
    "## Append the politicians to each party"
   ]
  },
  {
   "cell_type": "code",
   "execution_count": 50,
   "metadata": {},
   "outputs": [],
   "source": [
    "politicians_expanded = politicians.explode('party')\n",
    "parties['politicians'] = None\n",
    "for group_name, df_group in politicians_expanded.groupby('party'):\n",
    "    parties.loc[group_name, 'politicians'] = df_group.index.tolist()"
   ]
  },
  {
   "cell_type": "code",
   "execution_count": 3,
   "metadata": {},
   "outputs": [],
   "source": [
    "# repo = pywikibot.Site(\"wikidata\", \"wikidata\").data_repository()\n",
    "# def follow_links_to_label(node_id, links):\n",
    "#     initial_node = pywikibot.ItemPage(repo, node_id)\n",
    "#     return follow_links_to_label_repo(initial_node, links, repo)\n",
    "\n",
    "# def follow_links_to_label_repo(node, links, repo):\n",
    "#     # repo = pywikibot.Site(\"wikidata\", \"wikidata\").data_repository()\n",
    "#     item_dict = node.get()\n",
    "#     if len(links) > 0:\n",
    "#         labels = []\n",
    "#         clm_dict = item_dict[\"claims\"]\n",
    "#         if links[0] in clm_dict:\n",
    "#             clm_list = clm_dict[links[0]]\n",
    "#             for clm in clm_list:\n",
    "#                 # This is the party\n",
    "#                 if clm.getTarget():\n",
    "#                     labels.append(follow_links_to_label_repo(clm.getTarget(), links[1:], repo))\n",
    "#         return labels\n",
    "#     else:\n",
    "#         # Get label\n",
    "#         if 'labels' in item_dict and 'en' in item_dict['labels']:\n",
    "#             return item_dict['labels']['en']\n",
    "#         else:\n",
    "#             return None"
   ]
  },
  {
   "cell_type": "markdown",
   "metadata": {},
   "source": [
    "## Fetch the political alignment and country from the wikidata"
   ]
  },
  {
   "cell_type": "code",
   "execution_count": 13,
   "metadata": {},
   "outputs": [
    {
     "name": "stdout",
     "output_type": "stream",
     "text": [
      "Invalid index: Q3345151 Col: political_alignment\n",
      "Invalid index: Q3345151 Col: country\n",
      "Invalid index: Q3345151 Col: label\n",
      "Invalid index: Q7287097 Col: political_alignment\n",
      "Invalid index: Q7287097 Col: country\n",
      "Invalid index: Q7287097 Col: label\n"
     ]
    },
    {
     "name": "stderr",
     "output_type": "stream",
     "text": [
      "WARNING: wikibase-sense datatype is not supported yet.\n",
      "WARNING: wikibase-sense datatype is not supported yet.\n",
      "WARNING: wikibase-sense datatype is not supported yet.\n",
      "WARNING: wikibase-sense datatype is not supported yet.\n",
      "WARNING: wikibase-sense datatype is not supported yet.\n",
      "WARNING: wikibase-sense datatype is not supported yet.\n",
      "WARNING: wikibase-sense datatype is not supported yet.\n",
      "WARNING: wikibase-sense datatype is not supported yet.\n",
      "WARNING: wikibase-sense datatype is not supported yet.\n",
      "WARNING: wikibase-sense datatype is not supported yet.\n",
      "WARNING: wikibase-sense datatype is not supported yet.\n",
      "WARNING: wikibase-sense datatype is not supported yet.\n",
      "WARNING: wikibase-sense datatype is not supported yet.\n",
      "WARNING: wikibase-sense datatype is not supported yet.\n",
      "WARNING: wikibase-sense datatype is not supported yet.\n",
      "WARNING: wikibase-sense datatype is not supported yet.\n",
      "WARNING: wikibase-sense datatype is not supported yet.\n",
      "WARNING: wikibase-sense datatype is not supported yet.\n",
      "WARNING: wikibase-sense datatype is not supported yet.\n",
      "WARNING: wikibase-sense datatype is not supported yet.\n",
      "WARNING: wikibase-sense datatype is not supported yet.\n",
      "WARNING: wikibase-sense datatype is not supported yet.\n",
      "WARNING: wikibase-sense datatype is not supported yet.\n",
      "WARNING: wikibase-sense datatype is not supported yet.\n",
      "WARNING: wikibase-sense datatype is not supported yet.\n",
      "WARNING: wikibase-sense datatype is not supported yet.\n",
      "WARNING: wikibase-sense datatype is not supported yet.\n",
      "WARNING: wikibase-sense datatype is not supported yet.\n",
      "WARNING: wikibase-sense datatype is not supported yet.\n",
      "WARNING: wikibase-sense datatype is not supported yet.\n",
      "WARNING: wikibase-sense datatype is not supported yet.\n",
      "WARNING: wikibase-sense datatype is not supported yet.\n",
      "WARNING: wikibase-sense datatype is not supported yet.\n",
      "WARNING: wikibase-sense datatype is not supported yet.\n",
      "WARNING: wikibase-sense datatype is not supported yet.\n",
      "WARNING: wikibase-sense datatype is not supported yet.\n",
      "WARNING: wikibase-sense datatype is not supported yet.\n",
      "WARNING: wikibase-sense datatype is not supported yet.\n",
      "WARNING: wikibase-sense datatype is not supported yet.\n",
      "WARNING: wikibase-sense datatype is not supported yet.\n",
      "WARNING: wikibase-sense datatype is not supported yet.\n",
      "WARNING: wikibase-sense datatype is not supported yet.\n",
      "WARNING: wikibase-sense datatype is not supported yet.\n",
      "WARNING: wikibase-sense datatype is not supported yet.\n",
      "WARNING: wikibase-sense datatype is not supported yet.\n",
      "WARNING: wikibase-sense datatype is not supported yet.\n",
      "WARNING: wikibase-sense datatype is not supported yet.\n",
      "WARNING: wikibase-sense datatype is not supported yet.\n"
     ]
    },
    {
     "name": "stdout",
     "output_type": "stream",
     "text": [
      "Invalid index: Q6974404 Col: political_alignment\n",
      "Invalid index: Q6974404 Col: country\n",
      "Invalid index: Q6974404 Col: label\n"
     ]
    },
    {
     "name": "stderr",
     "output_type": "stream",
     "text": [
      "WARNING: wikibase-sense datatype is not supported yet.\n",
      "WARNING: wikibase-sense datatype is not supported yet.\n",
      "WARNING: wikibase-sense datatype is not supported yet.\n",
      "WARNING: wikibase-sense datatype is not supported yet.\n",
      "WARNING: wikibase-sense datatype is not supported yet.\n",
      "WARNING: wikibase-sense datatype is not supported yet.\n"
     ]
    },
    {
     "name": "stdout",
     "output_type": "stream",
     "text": [
      "Invalid index: Q55548162 Col: political_alignment\n",
      "Invalid index: Q55548162 Col: country\n",
      "Invalid index: Q55548162 Col: label\n"
     ]
    }
   ],
   "source": [
    "from wikidata_fetch import follow_links_to_label\n",
    "\n",
    "parties['political_alignment'] = None\n",
    "parties['country'] = None\n",
    "parties['label'] = None\n",
    "\n",
    "file_out = data_dir + 'politician_quotes_dataset/parties_new.csv.gz'\n",
    "\n",
    "\n",
    "property_mapping = {'political_alignment': 'P1387',\n",
    "                    'member_of_political_party': 'P102',\n",
    "                    'country': 'P17'}\n",
    "\n",
    "columns = {'political_alignment': [property_mapping['political_alignment']],\n",
    "           'country': [property_mapping['country']],\n",
    "           'label': []}\n",
    "\n",
    "# For each of the parties, add the political alignment and countries\n",
    "for index, row in parties.iloc[3698:].iterrows():\n",
    "    for col in columns:\n",
    "        try:\n",
    "            parties.at[index, col] =  follow_links_to_label(index, columns[col])\n",
    "        except Exception as e:\n",
    "            print('Invalid index:', index, 'Col:', col)\n",
    "parties.to_csv(file_out, compression=\"gzip\")\n"
   ]
  }
 ],
 "metadata": {
  "kernelspec": {
   "display_name": "Python 3 (ipykernel)",
   "language": "python",
   "name": "python3"
  },
  "language_info": {
   "codemirror_mode": {
    "name": "ipython",
    "version": 3
   },
   "file_extension": ".py",
   "mimetype": "text/x-python",
   "name": "python",
   "nbconvert_exporter": "python",
   "pygments_lexer": "ipython3",
   "version": "3.8.11"
  }
 },
 "nbformat": 4,
 "nbformat_minor": 4
}
