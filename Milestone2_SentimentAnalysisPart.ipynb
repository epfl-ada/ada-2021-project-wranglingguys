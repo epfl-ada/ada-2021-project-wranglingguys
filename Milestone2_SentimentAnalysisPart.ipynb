{
 "cells": [
  {
   "cell_type": "markdown",
   "metadata": {},
   "source": [
    "## Sentiment analysis with TextBlob"
   ]
  },
  {
   "cell_type": "markdown",
   "metadata": {},
   "source": [
    "We want to know if the quotes have a positive or a negative intention. In the following section a sentiment analysis approach was done with TextBlob. TextBlob is a python library for Natural Language Processing (NLP).It uses Natural Language ToolKit (NLTK) to achieve its tasks. It can be used for complex analysis on textual data."
   ]
  },
  {
   "cell_type": "code",
   "execution_count": 42,
   "metadata": {},
   "outputs": [],
   "source": [
    "import pandas as pd\n",
    "from textblob import TextBlob"
   ]
  },
  {
   "cell_type": "markdown",
   "metadata": {},
   "source": [
    "### get the citations as dataframe:\n"
   ]
  },
  {
   "cell_type": "code",
   "execution_count": 43,
   "metadata": {},
   "outputs": [],
   "source": [
    "# example data frame, must be replaced by dataframe of citations for one topic (filtering)\n",
    "list = ['This is a good example', 'This is a bad example', 'I dont like it', 'I love it', 'What is it?', 'These immigrants are good', 'These immigrants destroy everything']\n",
    "df = pd.DataFrame(list, columns=['quotation'])"
   ]
  },
  {
   "cell_type": "markdown",
   "metadata": {},
   "source": [
    "### Define the functions for subjectivity and polarity"
   ]
  },
  {
   "cell_type": "code",
   "execution_count": 44,
   "metadata": {},
   "outputs": [],
   "source": [
    "def getSubjectivity(citation):\n",
    "    \"\"\"\n",
    "    Get the Subjectivity of a quote\n",
    "    :param citation: String with the quote to be analyzed\n",
    "    :return: Subjectivity of the quote\n",
    "    \"\"\"\n",
    "    return TextBlob(citation).sentiment.subjectivity\n",
    "\n",
    "def getPolarity(citation):\n",
    "    \"\"\"\n",
    "    Get the polarity of a quote\n",
    "    :param  citation: String with the quote to be analyzed\n",
    "    :return: Float Polarity of the quote in range of [-1,1]\n",
    "    \"\"\"\n",
    "    return TextBlob(citation).sentiment.polarity\n",
    "\n",
    "def analysis(score):\n",
    "    \"\"\"\n",
    "    Analyzises the score\n",
    "    :param score: Float with the score \n",
    "    :return: String either Positive, Negative or Neutral\n",
    "    \"\"\"\n",
    "    if score < 0:\n",
    "        return 'Negative'\n",
    "    elif score == 0:\n",
    "        return 'Neutral'\n",
    "    else:\n",
    "        return 'Positive'\n"
   ]
  },
  {
   "cell_type": "code",
   "execution_count": 45,
   "metadata": {},
   "outputs": [
    {
     "data": {
      "text/html": [
       "<div>\n",
       "<style scoped>\n",
       "    .dataframe tbody tr th:only-of-type {\n",
       "        vertical-align: middle;\n",
       "    }\n",
       "\n",
       "    .dataframe tbody tr th {\n",
       "        vertical-align: top;\n",
       "    }\n",
       "\n",
       "    .dataframe thead th {\n",
       "        text-align: right;\n",
       "    }\n",
       "</style>\n",
       "<table border=\"1\" class=\"dataframe\">\n",
       "  <thead>\n",
       "    <tr style=\"text-align: right;\">\n",
       "      <th></th>\n",
       "      <th>quotation</th>\n",
       "      <th>Polarity</th>\n",
       "      <th>Analysis</th>\n",
       "    </tr>\n",
       "  </thead>\n",
       "  <tbody>\n",
       "    <tr>\n",
       "      <th>0</th>\n",
       "      <td>This is a good example</td>\n",
       "      <td>0.7</td>\n",
       "      <td>Positive</td>\n",
       "    </tr>\n",
       "    <tr>\n",
       "      <th>1</th>\n",
       "      <td>This is a bad example</td>\n",
       "      <td>-0.7</td>\n",
       "      <td>Negative</td>\n",
       "    </tr>\n",
       "    <tr>\n",
       "      <th>2</th>\n",
       "      <td>I dont like it</td>\n",
       "      <td>0.0</td>\n",
       "      <td>Neutral</td>\n",
       "    </tr>\n",
       "    <tr>\n",
       "      <th>3</th>\n",
       "      <td>I love it</td>\n",
       "      <td>0.5</td>\n",
       "      <td>Positive</td>\n",
       "    </tr>\n",
       "    <tr>\n",
       "      <th>4</th>\n",
       "      <td>What is it?</td>\n",
       "      <td>0.0</td>\n",
       "      <td>Neutral</td>\n",
       "    </tr>\n",
       "  </tbody>\n",
       "</table>\n",
       "</div>"
      ],
      "text/plain": [
       "                quotation  Polarity  Analysis\n",
       "0  This is a good example       0.7  Positive\n",
       "1   This is a bad example      -0.7  Negative\n",
       "2          I dont like it       0.0   Neutral\n",
       "3               I love it       0.5  Positive\n",
       "4             What is it?       0.0   Neutral"
      ]
     },
     "execution_count": 45,
     "metadata": {},
     "output_type": "execute_result"
    }
   ],
   "source": [
    "# add to DataFrame\n",
    "df['Polarity'] = df['quotation'].apply(getPolarity)\n",
    "df['Analysis'] = df['Polarity'].apply(analysis)\n",
    "df.head() "
   ]
  },
  {
   "cell_type": "code",
   "execution_count": 46,
   "metadata": {},
   "outputs": [
    {
     "name": "stdout",
     "output_type": "stream",
     "text": [
      "Positive    3\n",
      "Negative    2\n",
      "Neutral     2\n",
      "Name: Analysis, dtype: int64\n"
     ]
    }
   ],
   "source": [
    "# count pos, neg and neutral citations\n",
    "tb_counts = df.Analysis.value_counts()\n",
    "print(tb_counts)"
   ]
  },
  {
   "cell_type": "markdown",
   "metadata": {},
   "source": [
    "### Visualize the results"
   ]
  },
  {
   "cell_type": "code",
   "execution_count": 47,
   "metadata": {},
   "outputs": [
    {
     "data": {
      "image/png": "[encoded data removed]",
      "text/plain": [
       "<Figure size 1080x504 with 1 Axes>"
      ]
     },
     "metadata": {},
     "output_type": "display_data"
    }
   ],
   "source": [
    "import matplotlib.pyplot as plt\n",
    "%matplotlib inline\n",
    "plt.figure(figsize=(15,7))\n",
    "plt.title(\"Polarity\", color = 'g')\n",
    "plt.pie(tb_counts.values, labels = tb_counts.index,  autopct='%1.1f%%')\n",
    "plt.legend()\n",
    "plt.show()"
   ]
  },
  {
   "cell_type": "code",
   "execution_count": 48,
   "metadata": {},
   "outputs": [
    {
     "data": {
      "image/png": "[encoded data removed]",
      "text/plain": [
       "<Figure size 432x288 with 1 Axes>"
      ]
     },
     "metadata": {
      "needs_background": "light"
     },
     "output_type": "display_data"
    }
   ],
   "source": [
    "plt.title('Distribution of polarity values')\n",
    "plt.hist(df['Polarity'])\n",
    "plt.xlabel('Polarity in the range of -1 = negative, to 1 = positive')\n",
    "plt.ylabel('Occurence of the value')\n",
    "plt.show()"
   ]
  }
 ],
 "metadata": {
  "interpreter": {
   "hash": "fe1610ab63cd726e91a61fe78ce1a475aa9ae83ac6caa7ceb5c58c9a3dff1027"
  },
  "kernelspec": {
   "display_name": "Python 3.8.8 64-bit ('base': conda)",
   "language": "python",
   "name": "python3"
  },
  "language_info": {
   "codemirror_mode": {
    "name": "ipython",
    "version": 3
   },
   "file_extension": ".py",
   "mimetype": "text/x-python",
   "name": "python",
   "nbconvert_exporter": "python",
   "pygments_lexer": "ipython3",
   "version": "3.8.8"
  },
  "orig_nbformat": 4
 },
 "nbformat": 4,
 "nbformat_minor": 2
}
