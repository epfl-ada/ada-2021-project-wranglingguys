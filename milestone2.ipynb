{
 "cells": [
  {
   "cell_type": "code",
   "execution_count": 1,
   "metadata": {
    "collapsed": true
   },
   "outputs": [],
   "source": [
    "import pandas as pd\n",
    "import scripts.word2vec as w2v"
   ]
  },
  {
   "cell_type": "code",
   "execution_count": 2,
   "outputs": [],
   "source": [
    "# Download file if not present\n",
    "df = pd.read_csv('quotes-2020-politicians.csv.gz', compression='gzip')"
   ],
   "metadata": {
    "collapsed": false,
    "pycharm": {
     "name": "#%%\n"
    }
   }
  },
  {
   "cell_type": "code",
   "execution_count": 3,
   "outputs": [
    {
     "data": {
      "text/plain": "             quoteID                                          quotation  \\\n0  2020-03-12-000358  1. FM is entitled to go straight to press conf...   \n1  2020-01-26-000499  a few of the candidates who will do better in ...   \n2  2020-03-05-003054  All three parties are of the same view that th...   \n3  2020-03-25-003417  Also, we advise you to plan teams in areas lik...   \n4  2020-02-24-003407  and all of them (Selangor PKR, DAP and Amanah)...   \n\n            speaker           qids                 date  numOccurrences  \\\n0    Paul Masterton  ['Q30164281']  2020-03-12 19:15:29               1   \n1     Dave Loebsack    ['Q771586']  2020-01-26 13:21:36              11   \n2      Ashok Chavan   ['Q3345623']  2020-03-05 15:52:24               2   \n3     Narendra Modi      ['Q1058']  2020-03-25 13:10:14               1   \n4  Gobind Singh Deo   ['Q5575520']  2020-02-24 10:12:00               1   \n\n                                              probas  \\\n0  [['Paul Masterton', '0.8082'], ['None', '0.144...   \n1  [['Dave Loebsack', '0.9011'], ['None', '0.0949...   \n2  [['Ashok Chavan', '0.7848'], ['None', '0.1813'...   \n3  [['Narendra Modi', '0.5777'], ['Debjani Ghosh'...   \n4  [['Gobind Singh Deo', '0.6682'], ['None', '0.1...   \n\n                                                urls phase        qid  \n0  ['http://www.thenational.scot/news/18302427.co...     E  Q30164281  \n1  ['http://rss.cnn.com/~r/rss/cnn_allpolitics/~3...     E    Q771586  \n2  ['https://www.firstpost.com/politics/no-need-t...     E   Q3345623  \n3  ['https://www.thehindubusinessline.com/info-te...     E      Q1058  \n4  ['https://www.malaymail.com/news/malaysia/2020...     E   Q5575520  ",
      "text/html": "<div>\n<style scoped>\n    .dataframe tbody tr th:only-of-type {\n        vertical-align: middle;\n    }\n\n    .dataframe tbody tr th {\n        vertical-align: top;\n    }\n\n    .dataframe thead th {\n        text-align: right;\n    }\n</style>\n<table border=\"1\" class=\"dataframe\">\n  <thead>\n    <tr style=\"text-align: right;\">\n      <th></th>\n      <th>quoteID</th>\n      <th>quotation</th>\n      <th>speaker</th>\n      <th>qids</th>\n      <th>date</th>\n      <th>numOccurrences</th>\n      <th>probas</th>\n      <th>urls</th>\n      <th>phase</th>\n      <th>qid</th>\n    </tr>\n  </thead>\n  <tbody>\n    <tr>\n      <th>0</th>\n      <td>2020-03-12-000358</td>\n      <td>1. FM is entitled to go straight to press conf...</td>\n      <td>Paul Masterton</td>\n      <td>['Q30164281']</td>\n      <td>2020-03-12 19:15:29</td>\n      <td>1</td>\n      <td>[['Paul Masterton', '0.8082'], ['None', '0.144...</td>\n      <td>['http://www.thenational.scot/news/18302427.co...</td>\n      <td>E</td>\n      <td>Q30164281</td>\n    </tr>\n    <tr>\n      <th>1</th>\n      <td>2020-01-26-000499</td>\n      <td>a few of the candidates who will do better in ...</td>\n      <td>Dave Loebsack</td>\n      <td>['Q771586']</td>\n      <td>2020-01-26 13:21:36</td>\n      <td>11</td>\n      <td>[['Dave Loebsack', '0.9011'], ['None', '0.0949...</td>\n      <td>['http://rss.cnn.com/~r/rss/cnn_allpolitics/~3...</td>\n      <td>E</td>\n      <td>Q771586</td>\n    </tr>\n    <tr>\n      <th>2</th>\n      <td>2020-03-05-003054</td>\n      <td>All three parties are of the same view that th...</td>\n      <td>Ashok Chavan</td>\n      <td>['Q3345623']</td>\n      <td>2020-03-05 15:52:24</td>\n      <td>2</td>\n      <td>[['Ashok Chavan', '0.7848'], ['None', '0.1813'...</td>\n      <td>['https://www.firstpost.com/politics/no-need-t...</td>\n      <td>E</td>\n      <td>Q3345623</td>\n    </tr>\n    <tr>\n      <th>3</th>\n      <td>2020-03-25-003417</td>\n      <td>Also, we advise you to plan teams in areas lik...</td>\n      <td>Narendra Modi</td>\n      <td>['Q1058']</td>\n      <td>2020-03-25 13:10:14</td>\n      <td>1</td>\n      <td>[['Narendra Modi', '0.5777'], ['Debjani Ghosh'...</td>\n      <td>['https://www.thehindubusinessline.com/info-te...</td>\n      <td>E</td>\n      <td>Q1058</td>\n    </tr>\n    <tr>\n      <th>4</th>\n      <td>2020-02-24-003407</td>\n      <td>and all of them (Selangor PKR, DAP and Amanah)...</td>\n      <td>Gobind Singh Deo</td>\n      <td>['Q5575520']</td>\n      <td>2020-02-24 10:12:00</td>\n      <td>1</td>\n      <td>[['Gobind Singh Deo', '0.6682'], ['None', '0.1...</td>\n      <td>['https://www.malaymail.com/news/malaysia/2020...</td>\n      <td>E</td>\n      <td>Q5575520</td>\n    </tr>\n  </tbody>\n</table>\n</div>"
     },
     "execution_count": 3,
     "metadata": {},
     "output_type": "execute_result"
    }
   ],
   "source": [
    "df.head()"
   ],
   "metadata": {
    "collapsed": false,
    "pycharm": {
     "name": "#%%\n"
    }
   }
  },
  {
   "cell_type": "code",
   "execution_count": 4,
   "outputs": [
    {
     "name": "stdout",
     "output_type": "stream",
     "text": [
      "### Loading Word2Vec glove-wiki-gigaword-50 pre trained model ###\n",
      "### Successfully loaded Word2Vec glove-wiki-gigaword-50 pre trained model ###\n"
     ]
    },
    {
     "name": "stderr",
     "output_type": "stream",
     "text": [
      "G:\\Users\\Giovanni\\miniconda3\\envs\\ada\\lib\\site-packages\\numpy\\core\\fromnumeric.py:3419: RuntimeWarning: Mean of empty slice.\n",
      "  return _methods._mean(a, axis=axis, dtype=dtype,\n",
      "G:\\Users\\Giovanni\\miniconda3\\envs\\ada\\lib\\site-packages\\numpy\\core\\_methods.py:188: RuntimeWarning: invalid value encountered in double_scalars\n",
      "  ret = ret.dtype.type(ret / rcount)\n"
     ]
    }
   ],
   "source": [
    "# Extend dataframe with the quotes vectors\n",
    "\n",
    "w2v.extend_dataframe(df, 'quotation', 'quotation_vector')"
   ],
   "metadata": {
    "collapsed": false,
    "pycharm": {
     "name": "#%%\n"
    }
   }
  },
  {
   "cell_type": "code",
   "execution_count": 5,
   "outputs": [
    {
     "data": {
      "text/plain": "             quoteID                                          quotation  \\\n0  2020-03-12-000358  1. FM is entitled to go straight to press conf...   \n1  2020-01-26-000499  a few of the candidates who will do better in ...   \n2  2020-03-05-003054  All three parties are of the same view that th...   \n3  2020-03-25-003417  Also, we advise you to plan teams in areas lik...   \n4  2020-02-24-003407  and all of them (Selangor PKR, DAP and Amanah)...   \n\n            speaker           qids                 date  numOccurrences  \\\n0    Paul Masterton  ['Q30164281']  2020-03-12 19:15:29               1   \n1     Dave Loebsack    ['Q771586']  2020-01-26 13:21:36              11   \n2      Ashok Chavan   ['Q3345623']  2020-03-05 15:52:24               2   \n3     Narendra Modi      ['Q1058']  2020-03-25 13:10:14               1   \n4  Gobind Singh Deo   ['Q5575520']  2020-02-24 10:12:00               1   \n\n                                              probas  \\\n0  [['Paul Masterton', '0.8082'], ['None', '0.144...   \n1  [['Dave Loebsack', '0.9011'], ['None', '0.0949...   \n2  [['Ashok Chavan', '0.7848'], ['None', '0.1813'...   \n3  [['Narendra Modi', '0.5777'], ['Debjani Ghosh'...   \n4  [['Gobind Singh Deo', '0.6682'], ['None', '0.1...   \n\n                                                urls phase        qid  \\\n0  ['http://www.thenational.scot/news/18302427.co...     E  Q30164281   \n1  ['http://rss.cnn.com/~r/rss/cnn_allpolitics/~3...     E    Q771586   \n2  ['https://www.firstpost.com/politics/no-need-t...     E   Q3345623   \n3  ['https://www.thehindubusinessline.com/info-te...     E      Q1058   \n4  ['https://www.malaymail.com/news/malaysia/2020...     E   Q5575520   \n\n                                    quotation_vector  \n0  [-0.13334098, 0.556374, -0.37356228, 0.0617753...  \n1  [-0.3444808, 0.330136, 0.5590964, 0.22209471, ...  \n2  [-0.53832763, -0.17123541, -0.14220865, 0.1920...  \n3  [1.1335393, 0.16411674, -0.16772726, -0.284885...  \n4  [1.2443981, -0.5034978, 0.89262766, 0.06337619...  ",
      "text/html": "<div>\n<style scoped>\n    .dataframe tbody tr th:only-of-type {\n        vertical-align: middle;\n    }\n\n    .dataframe tbody tr th {\n        vertical-align: top;\n    }\n\n    .dataframe thead th {\n        text-align: right;\n    }\n</style>\n<table border=\"1\" class=\"dataframe\">\n  <thead>\n    <tr style=\"text-align: right;\">\n      <th></th>\n      <th>quoteID</th>\n      <th>quotation</th>\n      <th>speaker</th>\n      <th>qids</th>\n      <th>date</th>\n      <th>numOccurrences</th>\n      <th>probas</th>\n      <th>urls</th>\n      <th>phase</th>\n      <th>qid</th>\n      <th>quotation_vector</th>\n    </tr>\n  </thead>\n  <tbody>\n    <tr>\n      <th>0</th>\n      <td>2020-03-12-000358</td>\n      <td>1. FM is entitled to go straight to press conf...</td>\n      <td>Paul Masterton</td>\n      <td>['Q30164281']</td>\n      <td>2020-03-12 19:15:29</td>\n      <td>1</td>\n      <td>[['Paul Masterton', '0.8082'], ['None', '0.144...</td>\n      <td>['http://www.thenational.scot/news/18302427.co...</td>\n      <td>E</td>\n      <td>Q30164281</td>\n      <td>[-0.13334098, 0.556374, -0.37356228, 0.0617753...</td>\n    </tr>\n    <tr>\n      <th>1</th>\n      <td>2020-01-26-000499</td>\n      <td>a few of the candidates who will do better in ...</td>\n      <td>Dave Loebsack</td>\n      <td>['Q771586']</td>\n      <td>2020-01-26 13:21:36</td>\n      <td>11</td>\n      <td>[['Dave Loebsack', '0.9011'], ['None', '0.0949...</td>\n      <td>['http://rss.cnn.com/~r/rss/cnn_allpolitics/~3...</td>\n      <td>E</td>\n      <td>Q771586</td>\n      <td>[-0.3444808, 0.330136, 0.5590964, 0.22209471, ...</td>\n    </tr>\n    <tr>\n      <th>2</th>\n      <td>2020-03-05-003054</td>\n      <td>All three parties are of the same view that th...</td>\n      <td>Ashok Chavan</td>\n      <td>['Q3345623']</td>\n      <td>2020-03-05 15:52:24</td>\n      <td>2</td>\n      <td>[['Ashok Chavan', '0.7848'], ['None', '0.1813'...</td>\n      <td>['https://www.firstpost.com/politics/no-need-t...</td>\n      <td>E</td>\n      <td>Q3345623</td>\n      <td>[-0.53832763, -0.17123541, -0.14220865, 0.1920...</td>\n    </tr>\n    <tr>\n      <th>3</th>\n      <td>2020-03-25-003417</td>\n      <td>Also, we advise you to plan teams in areas lik...</td>\n      <td>Narendra Modi</td>\n      <td>['Q1058']</td>\n      <td>2020-03-25 13:10:14</td>\n      <td>1</td>\n      <td>[['Narendra Modi', '0.5777'], ['Debjani Ghosh'...</td>\n      <td>['https://www.thehindubusinessline.com/info-te...</td>\n      <td>E</td>\n      <td>Q1058</td>\n      <td>[1.1335393, 0.16411674, -0.16772726, -0.284885...</td>\n    </tr>\n    <tr>\n      <th>4</th>\n      <td>2020-02-24-003407</td>\n      <td>and all of them (Selangor PKR, DAP and Amanah)...</td>\n      <td>Gobind Singh Deo</td>\n      <td>['Q5575520']</td>\n      <td>2020-02-24 10:12:00</td>\n      <td>1</td>\n      <td>[['Gobind Singh Deo', '0.6682'], ['None', '0.1...</td>\n      <td>['https://www.malaymail.com/news/malaysia/2020...</td>\n      <td>E</td>\n      <td>Q5575520</td>\n      <td>[1.2443981, -0.5034978, 0.89262766, 0.06337619...</td>\n    </tr>\n  </tbody>\n</table>\n</div>"
     },
     "execution_count": 5,
     "metadata": {},
     "output_type": "execute_result"
    }
   ],
   "source": [
    "df.head()\n",
    "\n"
   ],
   "metadata": {
    "collapsed": false,
    "pycharm": {
     "name": "#%%\n"
    }
   }
  }
 ],
 "metadata": {
  "kernelspec": {
   "name": "pycharm-eba252db",
   "language": "python",
   "display_name": "PyCharm (EPFL)"
  },
  "language_info": {
   "codemirror_mode": {
    "name": "ipython",
    "version": 2
   },
   "file_extension": ".py",
   "mimetype": "text/x-python",
   "name": "python",
   "nbconvert_exporter": "python",
   "pygments_lexer": "ipython2",
   "version": "2.7.6"
  }
 },
 "nbformat": 4,
 "nbformat_minor": 0
}