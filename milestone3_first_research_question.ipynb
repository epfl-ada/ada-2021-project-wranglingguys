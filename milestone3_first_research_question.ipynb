{
 "cells": [
  {
   "cell_type": "code",
   "execution_count": 1,
   "metadata": {
    "collapsed": false,
    "jupyter": {
     "outputs_hidden": false
    },
    "pycharm": {
     "name": "#%%\n"
    }
   },
   "outputs": [],
   "source": [
    "import pandas as pd\n",
    "from top2vec import Top2Vec\n",
    "import numpy as np\n",
    "import seaborn as sns\n",
    "import matplotlib.pyplot as plt\n",
    "from src.data_wrangling.load_data import load_political_quotes"
   ]
  },
  {
   "cell_type": "markdown",
   "metadata": {
    "pycharm": {
     "name": "#%% md\n"
    }
   },
   "source": [
    "# 0. Load a subset of Quotations from politicians"
   ]
  },
  {
   "cell_type": "code",
   "execution_count": 2,
   "metadata": {
    "collapsed": false,
    "jupyter": {
     "outputs_hidden": false
    },
    "pycharm": {
     "name": "#%%\n"
    }
   },
   "outputs": [],
   "source": [
    "\n",
    "quotes = []\n",
    "countries = ['France', 'Italy', 'Germany', 'Spain', 'Poland']\n",
    "for batch in load_political_quotes(country=countries, chunksize=20000):\n",
    "    quotes.append(batch)"
   ]
  },
  {
   "cell_type": "code",
   "execution_count": 3,
   "metadata": {
    "collapsed": false,
    "jupyter": {
     "outputs_hidden": false
    },
    "pycharm": {
     "name": "#%%\n"
    }
   },
   "outputs": [
    {
     "data": {
      "text/plain": "                                                quotation  \\\n0       A big, fast, athletic guy that just doesn't kn...   \n1       I am confident enough, optimistic enough to sa...   \n2       I am convinced that this conflict won't be sol...   \n3       action accomplished in the service of excellen...   \n4       agreed that the E.U. should take further measu...   \n...                                                   ...   \n451124  The most important step in Libya now is the me...   \n451125  very frank, very constructive and, I think ver...   \n451126  We have also touched on barriers related to ho...   \n451127  We have to create our own capability that best...   \n451128  We will not paralyse the economic and social l...   \n\n                        speaker  country political_alignment  \\\n0                 Mark Helfrich  Germany        centre-right   \n1       Frank-Walter Steinmeier  Germany         centre-left   \n2                 Angela Merkel  Germany        centre-right   \n3             François Hollande   France         centre-left   \n4                 Angela Merkel  Germany        centre-right   \n...                         ...      ...                 ...   \n451124            Angela Merkel  Germany        centre-right   \n451125         Edouard Philippe   France        centre-right   \n451126            Angela Merkel  Germany        centre-right   \n451127          Emmanuel Macron   France         centre-left   \n451128            Olivier Véran   France         centre-left   \n\n                      date                     political_party  \n0      2015-08-27 04:42:41          Christian Democratic Union  \n1      2015-12-01 08:47:00  Social Democratic Party of Germany  \n2      2015-02-07 10:20:03          Christian Democratic Union  \n3      2015-03-06 13:14:59                     Socialist Party  \n4      2015-02-20 11:30:03          Christian Democratic Union  \n...                    ...                                 ...  \n451124 2020-01-24 16:30:48          Christian Democratic Union  \n451125 2020-01-10 18:17:55        Union for a Popular Movement  \n451126 2020-02-06 04:12:00          Christian Democratic Union  \n451127 2020-02-17 14:29:14                     Socialist Party  \n451128 2020-03-06 22:14:31                     Socialist Party  \n\n[451129 rows x 6 columns]",
      "text/html": "<div>\n<style scoped>\n    .dataframe tbody tr th:only-of-type {\n        vertical-align: middle;\n    }\n\n    .dataframe tbody tr th {\n        vertical-align: top;\n    }\n\n    .dataframe thead th {\n        text-align: right;\n    }\n</style>\n<table border=\"1\" class=\"dataframe\">\n  <thead>\n    <tr style=\"text-align: right;\">\n      <th></th>\n      <th>quotation</th>\n      <th>speaker</th>\n      <th>country</th>\n      <th>political_alignment</th>\n      <th>date</th>\n      <th>political_party</th>\n    </tr>\n  </thead>\n  <tbody>\n    <tr>\n      <th>0</th>\n      <td>A big, fast, athletic guy that just doesn't kn...</td>\n      <td>Mark Helfrich</td>\n      <td>Germany</td>\n      <td>centre-right</td>\n      <td>2015-08-27 04:42:41</td>\n      <td>Christian Democratic Union</td>\n    </tr>\n    <tr>\n      <th>1</th>\n      <td>I am confident enough, optimistic enough to sa...</td>\n      <td>Frank-Walter Steinmeier</td>\n      <td>Germany</td>\n      <td>centre-left</td>\n      <td>2015-12-01 08:47:00</td>\n      <td>Social Democratic Party of Germany</td>\n    </tr>\n    <tr>\n      <th>2</th>\n      <td>I am convinced that this conflict won't be sol...</td>\n      <td>Angela Merkel</td>\n      <td>Germany</td>\n      <td>centre-right</td>\n      <td>2015-02-07 10:20:03</td>\n      <td>Christian Democratic Union</td>\n    </tr>\n    <tr>\n      <th>3</th>\n      <td>action accomplished in the service of excellen...</td>\n      <td>François Hollande</td>\n      <td>France</td>\n      <td>centre-left</td>\n      <td>2015-03-06 13:14:59</td>\n      <td>Socialist Party</td>\n    </tr>\n    <tr>\n      <th>4</th>\n      <td>agreed that the E.U. should take further measu...</td>\n      <td>Angela Merkel</td>\n      <td>Germany</td>\n      <td>centre-right</td>\n      <td>2015-02-20 11:30:03</td>\n      <td>Christian Democratic Union</td>\n    </tr>\n    <tr>\n      <th>...</th>\n      <td>...</td>\n      <td>...</td>\n      <td>...</td>\n      <td>...</td>\n      <td>...</td>\n      <td>...</td>\n    </tr>\n    <tr>\n      <th>451124</th>\n      <td>The most important step in Libya now is the me...</td>\n      <td>Angela Merkel</td>\n      <td>Germany</td>\n      <td>centre-right</td>\n      <td>2020-01-24 16:30:48</td>\n      <td>Christian Democratic Union</td>\n    </tr>\n    <tr>\n      <th>451125</th>\n      <td>very frank, very constructive and, I think ver...</td>\n      <td>Edouard Philippe</td>\n      <td>France</td>\n      <td>centre-right</td>\n      <td>2020-01-10 18:17:55</td>\n      <td>Union for a Popular Movement</td>\n    </tr>\n    <tr>\n      <th>451126</th>\n      <td>We have also touched on barriers related to ho...</td>\n      <td>Angela Merkel</td>\n      <td>Germany</td>\n      <td>centre-right</td>\n      <td>2020-02-06 04:12:00</td>\n      <td>Christian Democratic Union</td>\n    </tr>\n    <tr>\n      <th>451127</th>\n      <td>We have to create our own capability that best...</td>\n      <td>Emmanuel Macron</td>\n      <td>France</td>\n      <td>centre-left</td>\n      <td>2020-02-17 14:29:14</td>\n      <td>Socialist Party</td>\n    </tr>\n    <tr>\n      <th>451128</th>\n      <td>We will not paralyse the economic and social l...</td>\n      <td>Olivier Véran</td>\n      <td>France</td>\n      <td>centre-left</td>\n      <td>2020-03-06 22:14:31</td>\n      <td>Socialist Party</td>\n    </tr>\n  </tbody>\n</table>\n<p>451129 rows × 6 columns</p>\n</div>"
     },
     "execution_count": 3,
     "metadata": {},
     "output_type": "execute_result"
    }
   ],
   "source": [
    "politician_quotes = pd.concat(quotes, axis=0, ignore_index=True)\n",
    "politician_quotes = politician_quotes[['quotation', 'speaker', 'country', 'political_alignment', 'date', 'political_party']]\n",
    "politician_quotes['date'] = pd.to_datetime(politician_quotes['date'])\n",
    "#politician_quotes = politician_quotes.sample(400000, random_state=1)\n",
    "politician_quotes"
   ]
  },
  {
   "cell_type": "markdown",
   "metadata": {},
   "source": [
    "# Run Top2Vec\n",
    "### Configure Top2Vec"
   ]
  },
  {
   "cell_type": "markdown",
   "metadata": {},
   "source": [
    "Here we configure Top2Vec and prepare the data. Top2Vec wants the documents and the ids as a list..."
   ]
  },
  {
   "cell_type": "code",
   "metadata": {
    "collapsed": false,
    "jupyter": {
     "outputs_hidden": false
    },
    "pycharm": {
     "name": "#%%\n",
     "is_executing": true
    }
   },
   "source": [
    "# SAMPLING\n",
    "sampled_politician_quotes = politician_quotes.sample(130000, random_state=1)\n",
    "documents_for_top2vec = sampled_politician_quotes['quotation'].tolist()\n",
    "ids_for_top2vec  = sampled_politician_quotes.index.tolist()\n",
    "\n",
    "excluded_indices = politician_quotes.index.isin(ids_for_top2vec)\n",
    "not_sampled_politician_quotes = politician_quotes[~excluded_indices]\n",
    "docs_for_top2vec_not_sampled = not_sampled_politician_quotes['quotation'].tolist()\n",
    "ids_for_top2vec_not_sampled = not_sampled_politician_quotes.index.tolist()"
   ],
   "execution_count": null,
   "outputs": []
  },
  {
   "cell_type": "markdown",
   "metadata": {},
   "source": [
    "Here we configure the dimensionality reduction(UMAP) and the clustering(HDBSCAN) steps."
   ]
  },
  {
   "cell_type": "code",
   "execution_count": null,
   "metadata": {
    "collapsed": false,
    "jupyter": {
     "outputs_hidden": false
    },
    "pycharm": {
     "name": "#%%\n",
     "is_executing": true
    }
   },
   "outputs": [],
   "source": [
    "umap_args = {'n_neighbors': 15,\n",
    "             'n_components': 15,\n",
    "             'metric': 'cosine'}\n",
    "hdbscan_args = {'min_cluster_size': 15,\n",
    "                'metric': 'euclidean',\n",
    "                'cluster_selection_method': 'eom'#,'core_dist_n_jobs': 1\n",
    "               }"
   ]
  },
  {
   "cell_type": "markdown",
   "metadata": {},
   "source": [
    "The speed option chooses a preconfiguration of for doc2vec. Here we used the quickest preset. But this we could also  modify later in the top2vec code manually to get optimal results."
   ]
  },
  {
   "cell_type": "markdown",
   "metadata": {},
   "source": [
    "### Execute the pipeline(Doc2Vec, UMAP, HDBSCAN, AssignToTopics)"
   ]
  },
  {
   "cell_type": "code",
   "execution_count": null,
   "metadata": {
    "collapsed": false,
    "jupyter": {
     "outputs_hidden": false
    },
    "pycharm": {
     "name": "#%%\n",
     "is_executing": true
    }
   },
   "outputs": [],
   "source": [
    "model = Top2Vec(documents_for_top2vec, document_ids=ids_for_top2vec, speed='learn',\n",
    "                umap_args=umap_args, hdbscan_args=hdbscan_args, workers=8)"
   ]
  },
  {
   "cell_type": "markdown",
   "metadata": {},
   "source": [
    "... and save the model for later."
   ]
  },
  {
   "cell_type": "code",
   "execution_count": null,
   "metadata": {
    "collapsed": false,
    "jupyter": {
     "outputs_hidden": false
    },
    "pycharm": {
     "name": "#%%\n",
     "is_executing": true
    }
   },
   "outputs": [],
   "source": [
    "model.save(\"all-years-doc2vec-sampled-without-uk\")"
   ]
  },
  {
   "cell_type": "markdown",
   "metadata": {},
   "source": [
    "### Collect the quotes in the topics of interest"
   ]
  },
  {
   "cell_type": "code",
   "execution_count": null,
   "metadata": {
    "collapsed": false,
    "jupyter": {
     "outputs_hidden": false
    },
    "pycharm": {
     "name": "#%%\n",
     "is_executing": true
    }
   },
   "outputs": [],
   "source": [
    "# Load trained model\n",
    "top2vec_model = Top2Vec.load(\"all-years-doc2vec-sampled-without-uk\")\n",
    "\n",
    "# Add documents not trained\n",
    "top2vec_model.add_documents(docs_for_top2vec_not_sampled, doc_ids=ids_for_top2vec_not_sampled)\n"
   ]
  },
  {
   "cell_type": "code",
   "execution_count": null,
   "metadata": {
    "collapsed": false,
    "jupyter": {
     "outputs_hidden": false
    },
    "pycharm": {
     "name": "#%%\n",
     "is_executing": true
    }
   },
   "outputs": [],
   "source": [
    "# Functions for visualization\n",
    "\n",
    "def filter_quotes_by_custom_topic(dataframe, top2vec_model, topic_keywords, similarity_threshold = 0.22):\n",
    "    doc_words, document_scores, document_ids = top2vec_model.search_documents_by_keywords(keywords=topic_keywords, num_docs=len(dataframe))\n",
    "    positions = np.argwhere(document_scores > similarity_threshold).flatten()\n",
    "    print(\"There are %d quotes above the threshold %.2f for the topic with the following keywords: %s\" % (len(positions), similarity_threshold, topic_keywords[0]), end='')\n",
    "    for keyword in topic_keywords[1:]:\n",
    "        print(\", %s\" % keyword, end='')\n",
    "    print(\".\")\n",
    "    return dataframe[dataframe.index.isin(document_ids[positions])]\n",
    "\n",
    "def filter_quotes_by_existent_topic(dataframe, top2vec_model, topic_id, similarity_threshold = 0.25):\n",
    "    _, document_scores, document_ids = top2vec_model.search_documents_by_topic(topic_num=48, num_docs=len(dataframe))\n",
    "    positions = np.argwhere(document_scores > similarity_threshold).flatten()\n",
    "    print(\"There are %d quotes above the threshold %.2f for the topic with ID %s.\" % (len(positions), similarity_threshold, topic_id))\n",
    "    return dataframe[dataframe.index.isin(positions)]"
   ]
  },
  {
   "cell_type": "code",
   "execution_count": null,
   "metadata": {
    "collapsed": false,
    "jupyter": {
     "outputs_hidden": false
    },
    "pycharm": {
     "name": "#%%\n",
     "is_executing": true
    }
   },
   "outputs": [],
   "source": [
    "immigration_quotes = filter_quotes_by_custom_topic(politician_quotes, top2vec_model, topic_keywords=[\"immigration\", \"migrants\"])\n",
    "europe_quotes = filter_quotes_by_custom_topic(politician_quotes, top2vec_model, topic_keywords=[\"european\"])\n",
    "discrimination_quotes = filter_quotes_by_custom_topic(politician_quotes, top2vec_model, topic_keywords=[\"discrimination\", \"racism\", \"gender\", \"equality\"])\n",
    "drugs_quotes = filter_quotes_by_custom_topic(politician_quotes, top2vec_model, topic_keywords=[\"cannabis\", \"protectionism\", \"drug\"])\n",
    "climate_change_quotes = filter_quotes_by_custom_topic(politician_quotes, top2vec_model, topic_keywords=[\"climate\", \"change\", \"emissions\"])\n",
    "russia_quotes = filter_quotes_by_custom_topic(politician_quotes, top2vec_model, topic_keywords=[\"russia\", \"putin\"])\n",
    "covid_quotes = filter_quotes_by_custom_topic(politician_quotes, top2vec_model, topic_keywords=[\"coronavirus\"])\n",
    "terrorism_quotes = filter_quotes_by_custom_topic(politician_quotes, top2vec_model, topic_keywords=[\"terrorism\"])"
   ]
  },
  {
   "cell_type": "code",
   "execution_count": null,
   "outputs": [],
   "source": [
    "# Save topics\n",
    "immigration_quotes.to_csv('immigration_quotes')\n",
    "europe_quotes.to_csv('europe_quotes')\n",
    "discrimination_quotes.to_csv('immigration_quotes')\n",
    "drugs_quotes.to_csv('discrimination_quotes')\n",
    "climate_change_quotes.to_csv('drugs_quotes')\n",
    "russia_quotes.to_csv('russia_quotes')\n",
    "covid_quotes.to_csv('covid_quotes')\n",
    "terrorism_quotes.to_csv('terrorism_quotes')"
   ],
   "metadata": {
    "collapsed": false,
    "pycharm": {
     "name": "#%%\n",
     "is_executing": true
    }
   }
  },
  {
   "cell_type": "markdown",
   "metadata": {
    "pycharm": {
     "name": "#%% md\n"
    }
   },
   "source": [
    "# Topic analysis\n",
    "\n",
    "### Visualization function\n",
    "\n",
    "Here we define some functions that will be needed for the visualization of the results."
   ]
  },
  {
   "cell_type": "code",
   "execution_count": null,
   "metadata": {
    "collapsed": false,
    "jupyter": {
     "outputs_hidden": false
    },
    "pycharm": {
     "name": "#%%\n",
     "is_executing": true
    }
   },
   "outputs": [],
   "source": [
    "# Distribution over time\n",
    "def show_time_distribution(topic_name, df, country = None):\n",
    "    series = df[\"date\"].dt.strftime('%Y-%b')\n",
    "    series = series.groupby(series).count()\n",
    "    date_range = pd.date_range('2015-01-01','2020-04-01',\n",
    "              freq='MS').strftime(\"%Y-%b\")\n",
    "    series = series.reindex(date_range, fill_value=0)\n",
    "\n",
    "    visualized_df = pd.DataFrame({'dates': series.index,\n",
    "                        'counts': series.values\n",
    "                       }, columns = ['dates','counts'])\n",
    "\n",
    "\n",
    "    fig, ax = plt.subplots(figsize = (20,12))\n",
    "    sns.barplot(x = \"dates\", y = \"counts\", data = visualized_df,\n",
    "                      ci = None, ax=ax)\n",
    "    ax.set_xticklabels(labels=visualized_df['dates'], rotation=45, ha='right')\n",
    "    # Add title and axis names\n",
    "\n",
    "    plt.xlabel('Year - Month')\n",
    "    plt.ylabel('Number of quotes')\n",
    "    if country is None:\n",
    "        plt.title('%s - Distribution of quotes over time in all countries' % topic_name)\n",
    "    else:\n",
    "        plt.title('%s - Distribution of quotes over time in %s' % (topic_name, country))\n",
    "    plt.show()\n",
    "\n",
    "\n",
    "def show_time_distribution_per_country(topic_name, df, country = None):\n",
    "    country_df = df[df['country'] == country]\n",
    "    show_time_distribution(topic_name, country_df, country = country)\n",
    "\n",
    "\n",
    "# Distribution of political orientation\n",
    "def show_political_orientation_distribution(topic_name, df, country = None):\n",
    "    political_alignments = ['far-left', 'radical left', 'left-wing', 'centre-left',\n",
    "                        'centrism', 'centre-right', 'right-wing', 'far-right',\n",
    "                        'national conservatism', 'nationalism', 'liberalism', 'Third Way', 'syncretic politics', None]\n",
    "    series = df.groupby(['political_alignment'])['political_alignment'].count()\n",
    "    series = series.reindex(political_alignments)\n",
    "    series = series.dropna()\n",
    "    visualized_df = pd.DataFrame({'political_alignment': series.index,\n",
    "                        'counts': series.values\n",
    "                       }, columns = ['political_alignment','counts'])\n",
    "    fig = sns.catplot(x='political_alignment', y='counts', kind=\"bar\", palette=\"colorblind\", data=visualized_df)\n",
    "    plt.xlabel('Political alignment')\n",
    "    plt.ylabel('Number of quotes')\n",
    "    if country is None:\n",
    "        plt.title('%s - Distribution of quotes over political alignments in all countries' % topic_name)\n",
    "    else:\n",
    "        plt.title('%s - Distribution of quotes over political alignments in %s' % (topic_name, country))\n",
    "    fig.set_xticklabels(labels=visualized_df['political_alignment'], rotation=45, ha='right')\n",
    "    plt.show()\n",
    "\n",
    "def show_political_orientation_distribution_per_country(topic_name, df, country):\n",
    "    country_df = df[df['country'] == country]\n",
    "    show_political_orientation_distribution(topic_name, country_df, country = country)\n",
    "\n",
    "# Distribution of top speakers\n",
    "def show_top_k_speakers(topic_name, df, country = None, k=10):\n",
    "    # Filtered top 10 speakers\n",
    "    series = df.groupby(['speaker'])['speaker'].count()\n",
    "    visualized_df = pd.DataFrame({'speaker': series.index,\n",
    "                        'counts': series.values\n",
    "                       }, columns = ['speaker','counts'])\n",
    "    visualized_df = visualized_df.sort_values('counts', ascending=False).head(k)\n",
    "    fig = sns.catplot(x=\"speaker\", y=\"counts\", kind=\"bar\", palette=\"colorblind\", data=visualized_df)\n",
    "    fig.set_xticklabels(labels=visualized_df['speaker'], rotation=45, ha='right')\n",
    "    plt.xlabel('Speaker')\n",
    "    plt.ylabel('Number of quotes')\n",
    "    if country is None:\n",
    "        plt.title('%s - Top speakers in all countries' % topic_name)\n",
    "    else:\n",
    "        plt.title('%s - Top speakers in %s' % (topic_name, country))\n",
    "    plt.show()\n",
    "\n",
    "def show_top_k_speakers_per_country(topic_name, df, country, k=10):\n",
    "    country_df = df[df['country'] == country]\n",
    "    show_top_k_speakers(topic_name, country_df, country = country, k = k)\n"
   ]
  },
  {
   "cell_type": "markdown",
   "metadata": {
    "pycharm": {
     "name": "#%% md\n"
    }
   },
   "source": [
    "## Immigration"
   ]
  },
  {
   "cell_type": "markdown",
   "source": [
    "### Distribution over time in all countries"
   ],
   "metadata": {
    "collapsed": false,
    "pycharm": {
     "name": "#%% md\n"
    }
   }
  },
  {
   "cell_type": "code",
   "execution_count": null,
   "outputs": [],
   "source": [
    "topic_name = 'Immigration'\n",
    "df = immigration_quotes\n",
    "show_time_distribution(topic_name, df)"
   ],
   "metadata": {
    "collapsed": false,
    "pycharm": {
     "name": "#%%\n",
     "is_executing": true
    }
   }
  },
  {
   "cell_type": "markdown",
   "source": [
    "### Distribution over time per country"
   ],
   "metadata": {
    "collapsed": false
   }
  },
  {
   "cell_type": "code",
   "execution_count": null,
   "outputs": [],
   "source": [
    "for country in countries:\n",
    "        show_time_distribution_per_country(topic_name, df, country)"
   ],
   "metadata": {
    "collapsed": false,
    "pycharm": {
     "name": "#%%\n",
     "is_executing": true
    }
   }
  },
  {
   "cell_type": "markdown",
   "source": [
    "### Distribution over political alignments"
   ],
   "metadata": {
    "collapsed": false,
    "pycharm": {
     "name": "#%% md\n"
    }
   }
  },
  {
   "cell_type": "code",
   "execution_count": null,
   "outputs": [],
   "source": [
    "show_political_orientation_distribution(topic_name, df)"
   ],
   "metadata": {
    "collapsed": false,
    "pycharm": {
     "name": "#%%\n",
     "is_executing": true
    }
   }
  },
  {
   "cell_type": "markdown",
   "source": [
    "### Distribution over political alignments per country"
   ],
   "metadata": {
    "collapsed": false
   }
  },
  {
   "cell_type": "code",
   "execution_count": null,
   "outputs": [],
   "source": [
    "for country in countries:\n",
    "        show_political_orientation_distribution_per_country(topic_name, df, country)"
   ],
   "metadata": {
    "collapsed": false,
    "pycharm": {
     "name": "#%%\n",
     "is_executing": true
    }
   }
  },
  {
   "cell_type": "markdown",
   "source": [
    "### Top speakers in all countries"
   ],
   "metadata": {
    "collapsed": false
   }
  },
  {
   "cell_type": "code",
   "execution_count": null,
   "outputs": [],
   "source": [
    "show_top_k_speakers(topic_name, df)"
   ],
   "metadata": {
    "collapsed": false,
    "pycharm": {
     "name": "#%%\n",
     "is_executing": true
    }
   }
  },
  {
   "cell_type": "markdown",
   "source": [
    "### Top speakers per country"
   ],
   "metadata": {
    "collapsed": false
   }
  },
  {
   "cell_type": "code",
   "execution_count": null,
   "outputs": [],
   "source": [
    "for country in countries:\n",
    "        show_top_k_speakers_per_country(topic_name, df, country)"
   ],
   "metadata": {
    "collapsed": false,
    "pycharm": {
     "name": "#%%\n",
     "is_executing": true
    }
   }
  },
  {
   "cell_type": "markdown",
   "source": [
    "## European Union"
   ],
   "metadata": {
    "collapsed": false
   }
  },
  {
   "cell_type": "markdown",
   "source": [
    "### Distribution over time in all countries"
   ],
   "metadata": {
    "collapsed": false
   }
  },
  {
   "cell_type": "code",
   "execution_count": null,
   "outputs": [],
   "source": [
    "topic_name = 'European Union'\n",
    "df = europe_quotes\n",
    "show_time_distribution(topic_name, df)"
   ],
   "metadata": {
    "collapsed": false,
    "pycharm": {
     "name": "#%%\n",
     "is_executing": true
    }
   }
  },
  {
   "cell_type": "markdown",
   "source": [
    "### Distribution over time per country"
   ],
   "metadata": {
    "collapsed": false
   }
  },
  {
   "cell_type": "code",
   "execution_count": null,
   "outputs": [],
   "source": [
    "for country in countries:\n",
    "        show_time_distribution_per_country(topic_name, df, country)"
   ],
   "metadata": {
    "collapsed": false,
    "pycharm": {
     "name": "#%%\n",
     "is_executing": true
    }
   }
  },
  {
   "cell_type": "markdown",
   "source": [
    "### Distribution over political alignments"
   ],
   "metadata": {
    "collapsed": false
   }
  },
  {
   "cell_type": "code",
   "execution_count": null,
   "outputs": [],
   "source": [
    "show_political_orientation_distribution(topic_name, df)"
   ],
   "metadata": {
    "collapsed": false,
    "pycharm": {
     "name": "#%%\n",
     "is_executing": true
    }
   }
  },
  {
   "cell_type": "markdown",
   "source": [
    "### Distribution over political alignments per country"
   ],
   "metadata": {
    "collapsed": false
   }
  },
  {
   "cell_type": "code",
   "execution_count": null,
   "outputs": [],
   "source": [
    "for country in countries:\n",
    "        show_political_orientation_distribution_per_country(topic_name, df, country)"
   ],
   "metadata": {
    "collapsed": false,
    "pycharm": {
     "name": "#%%\n",
     "is_executing": true
    }
   }
  },
  {
   "cell_type": "markdown",
   "source": [
    "### Top speakers in all countries"
   ],
   "metadata": {
    "collapsed": false
   }
  },
  {
   "cell_type": "code",
   "execution_count": null,
   "outputs": [],
   "source": [
    "show_top_k_speakers(topic_name, df)"
   ],
   "metadata": {
    "collapsed": false,
    "pycharm": {
     "name": "#%%\n",
     "is_executing": true
    }
   }
  },
  {
   "cell_type": "markdown",
   "source": [
    "### Top speakers per country"
   ],
   "metadata": {
    "collapsed": false
   }
  },
  {
   "cell_type": "code",
   "execution_count": null,
   "outputs": [],
   "source": [
    "for country in countries:\n",
    "        show_top_k_speakers_per_country(topic_name, df, country)"
   ],
   "metadata": {
    "collapsed": false,
    "pycharm": {
     "name": "#%%\n",
     "is_executing": true
    }
   }
  },
  {
   "cell_type": "markdown",
   "source": [
    "## Discriminations"
   ],
   "metadata": {
    "collapsed": false
   }
  },
  {
   "cell_type": "markdown",
   "source": [
    "### Distribution over time in all countries"
   ],
   "metadata": {
    "collapsed": false
   }
  },
  {
   "cell_type": "code",
   "execution_count": null,
   "outputs": [],
   "source": [
    "topic_name = 'Discriminations'\n",
    "df = discrimination_quotes\n",
    "show_time_distribution(topic_name, df)"
   ],
   "metadata": {
    "collapsed": false,
    "pycharm": {
     "name": "#%%\n",
     "is_executing": true
    }
   }
  },
  {
   "cell_type": "markdown",
   "source": [
    "### Distribution over time per country"
   ],
   "metadata": {
    "collapsed": false
   }
  },
  {
   "cell_type": "code",
   "execution_count": null,
   "outputs": [],
   "source": [
    "for country in countries:\n",
    "        show_time_distribution_per_country(topic_name, df, country)"
   ],
   "metadata": {
    "collapsed": false,
    "pycharm": {
     "name": "#%%\n",
     "is_executing": true
    }
   }
  },
  {
   "cell_type": "markdown",
   "source": [
    "### Distribution over political alignments"
   ],
   "metadata": {
    "collapsed": false
   }
  },
  {
   "cell_type": "code",
   "execution_count": null,
   "outputs": [],
   "source": [
    "show_political_orientation_distribution(topic_name, df)"
   ],
   "metadata": {
    "collapsed": false,
    "pycharm": {
     "name": "#%%\n",
     "is_executing": true
    }
   }
  },
  {
   "cell_type": "markdown",
   "source": [
    "### Distribution over political alignments per country"
   ],
   "metadata": {
    "collapsed": false
   }
  },
  {
   "cell_type": "code",
   "execution_count": null,
   "outputs": [],
   "source": [
    "for country in countries:\n",
    "        show_political_orientation_distribution_per_country(topic_name, df, country)"
   ],
   "metadata": {
    "collapsed": false,
    "pycharm": {
     "name": "#%%\n",
     "is_executing": true
    }
   }
  },
  {
   "cell_type": "markdown",
   "source": [
    "### Top speakers in all countries"
   ],
   "metadata": {
    "collapsed": false
   }
  },
  {
   "cell_type": "code",
   "execution_count": null,
   "outputs": [],
   "source": [
    "show_top_k_speakers(topic_name, df)"
   ],
   "metadata": {
    "collapsed": false,
    "pycharm": {
     "name": "#%%\n",
     "is_executing": true
    }
   }
  },
  {
   "cell_type": "markdown",
   "source": [
    "### Top speakers per country"
   ],
   "metadata": {
    "collapsed": false
   }
  },
  {
   "cell_type": "code",
   "execution_count": null,
   "outputs": [],
   "source": [
    "for country in countries:\n",
    "        show_top_k_speakers_per_country(topic_name, df, country)"
   ],
   "metadata": {
    "collapsed": false,
    "pycharm": {
     "name": "#%%\n",
     "is_executing": true
    }
   }
  },
  {
   "cell_type": "markdown",
   "source": [
    "## Drugs"
   ],
   "metadata": {
    "collapsed": false
   }
  },
  {
   "cell_type": "markdown",
   "source": [
    "### Distribution over time in all countries"
   ],
   "metadata": {
    "collapsed": false
   }
  },
  {
   "cell_type": "code",
   "execution_count": null,
   "outputs": [],
   "source": [
    "topic_name = 'Drugs'\n",
    "df = drugs_quotes\n",
    "show_time_distribution(topic_name, df)"
   ],
   "metadata": {
    "collapsed": false,
    "pycharm": {
     "name": "#%%\n",
     "is_executing": true
    }
   }
  },
  {
   "cell_type": "markdown",
   "source": [
    "### Distribution over time per country"
   ],
   "metadata": {
    "collapsed": false
   }
  },
  {
   "cell_type": "code",
   "execution_count": null,
   "outputs": [],
   "source": [
    "for country in countries:\n",
    "        show_time_distribution_per_country(topic_name, df, country)"
   ],
   "metadata": {
    "collapsed": false,
    "pycharm": {
     "name": "#%%\n",
     "is_executing": true
    }
   }
  },
  {
   "cell_type": "markdown",
   "source": [
    "### Distribution over political alignments"
   ],
   "metadata": {
    "collapsed": false
   }
  },
  {
   "cell_type": "code",
   "execution_count": null,
   "outputs": [],
   "source": [
    "show_political_orientation_distribution(topic_name, df)"
   ],
   "metadata": {
    "collapsed": false,
    "pycharm": {
     "name": "#%%\n",
     "is_executing": true
    }
   }
  },
  {
   "cell_type": "markdown",
   "source": [
    "### Distribution over political alignments per country"
   ],
   "metadata": {
    "collapsed": false
   }
  },
  {
   "cell_type": "code",
   "execution_count": null,
   "outputs": [],
   "source": [
    "for country in countries:\n",
    "        show_political_orientation_distribution_per_country(topic_name, df, country)"
   ],
   "metadata": {
    "collapsed": false,
    "pycharm": {
     "name": "#%%\n",
     "is_executing": true
    }
   }
  },
  {
   "cell_type": "markdown",
   "source": [
    "### Top speakers in all countries"
   ],
   "metadata": {
    "collapsed": false
   }
  },
  {
   "cell_type": "code",
   "execution_count": null,
   "outputs": [],
   "source": [
    "show_top_k_speakers(topic_name, df)"
   ],
   "metadata": {
    "collapsed": false,
    "pycharm": {
     "name": "#%%\n",
     "is_executing": true
    }
   }
  },
  {
   "cell_type": "markdown",
   "source": [
    "### Top speakers per country"
   ],
   "metadata": {
    "collapsed": false
   }
  },
  {
   "cell_type": "code",
   "execution_count": null,
   "outputs": [],
   "source": [
    "for country in countries:\n",
    "        show_top_k_speakers_per_country(topic_name, df, country)"
   ],
   "metadata": {
    "collapsed": false,
    "pycharm": {
     "name": "#%%\n",
     "is_executing": true
    }
   }
  },
  {
   "cell_type": "markdown",
   "source": [
    "## Climate change"
   ],
   "metadata": {
    "collapsed": false
   }
  },
  {
   "cell_type": "markdown",
   "source": [
    "### Distribution over time in all countries"
   ],
   "metadata": {
    "collapsed": false
   }
  },
  {
   "cell_type": "code",
   "execution_count": null,
   "outputs": [],
   "source": [
    "topic_name = 'Climate change'\n",
    "df = climate_change_quotes\n",
    "show_time_distribution(topic_name, df)"
   ],
   "metadata": {
    "collapsed": false,
    "pycharm": {
     "name": "#%%\n",
     "is_executing": true
    }
   }
  },
  {
   "cell_type": "markdown",
   "source": [
    "### Distribution over time per country"
   ],
   "metadata": {
    "collapsed": false
   }
  },
  {
   "cell_type": "code",
   "execution_count": null,
   "outputs": [],
   "source": [
    "for country in countries:\n",
    "        show_time_distribution_per_country(topic_name, df, country)"
   ],
   "metadata": {
    "collapsed": false,
    "pycharm": {
     "name": "#%%\n",
     "is_executing": true
    }
   }
  },
  {
   "cell_type": "markdown",
   "source": [
    "### Distribution over political alignments"
   ],
   "metadata": {
    "collapsed": false
   }
  },
  {
   "cell_type": "code",
   "execution_count": null,
   "outputs": [],
   "source": [
    "show_political_orientation_distribution(topic_name, df)"
   ],
   "metadata": {
    "collapsed": false,
    "pycharm": {
     "name": "#%%\n",
     "is_executing": true
    }
   }
  },
  {
   "cell_type": "markdown",
   "source": [
    "### Distribution over political alignments per country"
   ],
   "metadata": {
    "collapsed": false
   }
  },
  {
   "cell_type": "code",
   "execution_count": null,
   "outputs": [],
   "source": [
    "for country in countries:\n",
    "        show_political_orientation_distribution_per_country(topic_name, df, country)"
   ],
   "metadata": {
    "collapsed": false,
    "pycharm": {
     "name": "#%%\n",
     "is_executing": true
    }
   }
  },
  {
   "cell_type": "markdown",
   "source": [
    "### Top speakers in all countries"
   ],
   "metadata": {
    "collapsed": false
   }
  },
  {
   "cell_type": "code",
   "execution_count": null,
   "outputs": [],
   "source": [
    "show_top_k_speakers(topic_name, df)"
   ],
   "metadata": {
    "collapsed": false,
    "pycharm": {
     "name": "#%%\n",
     "is_executing": true
    }
   }
  },
  {
   "cell_type": "markdown",
   "source": [
    "### Top speakers per country"
   ],
   "metadata": {
    "collapsed": false
   }
  },
  {
   "cell_type": "code",
   "execution_count": null,
   "outputs": [],
   "source": [
    "for country in countries:\n",
    "        show_top_k_speakers_per_country(topic_name, df, country)"
   ],
   "metadata": {
    "collapsed": false,
    "pycharm": {
     "name": "#%%\n",
     "is_executing": true
    }
   }
  },
  {
   "cell_type": "markdown",
   "source": [
    "## Russia"
   ],
   "metadata": {
    "collapsed": false
   }
  },
  {
   "cell_type": "markdown",
   "source": [
    "### Distribution over time in all countries"
   ],
   "metadata": {
    "collapsed": false
   }
  },
  {
   "cell_type": "code",
   "execution_count": null,
   "outputs": [],
   "source": [
    "topic_name = 'Russia'\n",
    "df = russia_quotes\n",
    "show_time_distribution(topic_name, df)"
   ],
   "metadata": {
    "collapsed": false,
    "pycharm": {
     "name": "#%%\n",
     "is_executing": true
    }
   }
  },
  {
   "cell_type": "markdown",
   "source": [
    "### Distribution over time per country"
   ],
   "metadata": {
    "collapsed": false
   }
  },
  {
   "cell_type": "code",
   "execution_count": null,
   "outputs": [],
   "source": [
    "for country in countries:\n",
    "        show_time_distribution_per_country(topic_name, df, country)"
   ],
   "metadata": {
    "collapsed": false,
    "pycharm": {
     "name": "#%%\n",
     "is_executing": true
    }
   }
  },
  {
   "cell_type": "markdown",
   "source": [
    "### Distribution over political alignments"
   ],
   "metadata": {
    "collapsed": false
   }
  },
  {
   "cell_type": "code",
   "execution_count": null,
   "outputs": [],
   "source": [
    "show_political_orientation_distribution(topic_name, df)"
   ],
   "metadata": {
    "collapsed": false,
    "pycharm": {
     "name": "#%%\n",
     "is_executing": true
    }
   }
  },
  {
   "cell_type": "markdown",
   "source": [
    "### Distribution over political alignments per country"
   ],
   "metadata": {
    "collapsed": false
   }
  },
  {
   "cell_type": "code",
   "execution_count": null,
   "outputs": [],
   "source": [
    "for country in countries:\n",
    "        show_political_orientation_distribution_per_country(topic_name, df, country)"
   ],
   "metadata": {
    "collapsed": false,
    "pycharm": {
     "name": "#%%\n",
     "is_executing": true
    }
   }
  },
  {
   "cell_type": "markdown",
   "source": [
    "### Top speakers in all countries"
   ],
   "metadata": {
    "collapsed": false
   }
  },
  {
   "cell_type": "code",
   "execution_count": null,
   "outputs": [],
   "source": [
    "show_top_k_speakers(topic_name, df)"
   ],
   "metadata": {
    "collapsed": false,
    "pycharm": {
     "name": "#%%\n",
     "is_executing": true
    }
   }
  },
  {
   "cell_type": "markdown",
   "source": [
    "### Top speakers per country"
   ],
   "metadata": {
    "collapsed": false
   }
  },
  {
   "cell_type": "code",
   "execution_count": null,
   "outputs": [],
   "source": [
    "for country in countries:\n",
    "        show_top_k_speakers_per_country(topic_name, df, country)"
   ],
   "metadata": {
    "collapsed": false,
    "pycharm": {
     "name": "#%%\n",
     "is_executing": true
    }
   }
  },
  {
   "cell_type": "markdown",
   "source": [
    "## Coronavirus"
   ],
   "metadata": {
    "collapsed": false
   }
  },
  {
   "cell_type": "markdown",
   "source": [
    "### Distribution over time in all countries"
   ],
   "metadata": {
    "collapsed": false
   }
  },
  {
   "cell_type": "code",
   "execution_count": null,
   "outputs": [],
   "source": [
    "topic_name = 'Coronavirus'\n",
    "df = covid_quotes\n",
    "show_time_distribution(topic_name, df)"
   ],
   "metadata": {
    "collapsed": false,
    "pycharm": {
     "name": "#%%\n",
     "is_executing": true
    }
   }
  },
  {
   "cell_type": "markdown",
   "source": [
    "### Distribution over time per country"
   ],
   "metadata": {
    "collapsed": false
   }
  },
  {
   "cell_type": "code",
   "execution_count": null,
   "outputs": [],
   "source": [
    "for country in countries:\n",
    "        show_time_distribution_per_country(topic_name, df, country)"
   ],
   "metadata": {
    "collapsed": false,
    "pycharm": {
     "name": "#%%\n",
     "is_executing": true
    }
   }
  },
  {
   "cell_type": "markdown",
   "source": [
    "### Distribution over political alignments"
   ],
   "metadata": {
    "collapsed": false
   }
  },
  {
   "cell_type": "code",
   "execution_count": null,
   "outputs": [],
   "source": [
    "show_political_orientation_distribution(topic_name, df)"
   ],
   "metadata": {
    "collapsed": false,
    "pycharm": {
     "name": "#%%\n",
     "is_executing": true
    }
   }
  },
  {
   "cell_type": "markdown",
   "source": [
    "### Distribution over political alignments per country"
   ],
   "metadata": {
    "collapsed": false
   }
  },
  {
   "cell_type": "code",
   "execution_count": null,
   "outputs": [],
   "source": [
    "for country in countries:\n",
    "        show_political_orientation_distribution_per_country(topic_name, df, country)"
   ],
   "metadata": {
    "collapsed": false,
    "pycharm": {
     "name": "#%%\n",
     "is_executing": true
    }
   }
  },
  {
   "cell_type": "markdown",
   "source": [
    "### Top speakers in all countries"
   ],
   "metadata": {
    "collapsed": false
   }
  },
  {
   "cell_type": "code",
   "execution_count": null,
   "outputs": [],
   "source": [
    "show_top_k_speakers(topic_name, df)"
   ],
   "metadata": {
    "collapsed": false,
    "pycharm": {
     "name": "#%%\n",
     "is_executing": true
    }
   }
  },
  {
   "cell_type": "markdown",
   "source": [
    "### Top speakers per country"
   ],
   "metadata": {
    "collapsed": false
   }
  },
  {
   "cell_type": "code",
   "execution_count": null,
   "outputs": [],
   "source": [
    "for country in countries:\n",
    "        show_top_k_speakers_per_country(topic_name, df, country)"
   ],
   "metadata": {
    "collapsed": false,
    "pycharm": {
     "name": "#%%\n",
     "is_executing": true
    }
   }
  },
  {
   "cell_type": "markdown",
   "source": [
    "## Terrorism"
   ],
   "metadata": {
    "collapsed": false
   }
  },
  {
   "cell_type": "markdown",
   "source": [
    "### Distribution over time in all countries"
   ],
   "metadata": {
    "collapsed": false
   }
  },
  {
   "cell_type": "code",
   "execution_count": null,
   "outputs": [],
   "source": [
    "topic_name = 'Terrorism'\n",
    "df = terrorism_quotes\n",
    "show_time_distribution(topic_name, df)"
   ],
   "metadata": {
    "collapsed": false,
    "pycharm": {
     "name": "#%%\n",
     "is_executing": true
    }
   }
  },
  {
   "cell_type": "markdown",
   "source": [
    "### Distribution over time per country"
   ],
   "metadata": {
    "collapsed": false
   }
  },
  {
   "cell_type": "code",
   "execution_count": null,
   "outputs": [],
   "source": [
    "for country in countries:\n",
    "        show_time_distribution_per_country(topic_name, df, country)"
   ],
   "metadata": {
    "collapsed": false,
    "pycharm": {
     "name": "#%%\n",
     "is_executing": true
    }
   }
  },
  {
   "cell_type": "markdown",
   "source": [
    "### Distribution over political alignments"
   ],
   "metadata": {
    "collapsed": false
   }
  },
  {
   "cell_type": "code",
   "execution_count": null,
   "outputs": [],
   "source": [
    "show_political_orientation_distribution(topic_name, df)"
   ],
   "metadata": {
    "collapsed": false,
    "pycharm": {
     "name": "#%%\n",
     "is_executing": true
    }
   }
  },
  {
   "cell_type": "markdown",
   "source": [
    "### Distribution over political alignments per country"
   ],
   "metadata": {
    "collapsed": false
   }
  },
  {
   "cell_type": "code",
   "execution_count": null,
   "outputs": [],
   "source": [
    "for country in countries:\n",
    "        show_political_orientation_distribution_per_country(topic_name, df, country)"
   ],
   "metadata": {
    "collapsed": false,
    "pycharm": {
     "name": "#%%\n",
     "is_executing": true
    }
   }
  },
  {
   "cell_type": "markdown",
   "source": [
    "### Top speakers in all countries"
   ],
   "metadata": {
    "collapsed": false
   }
  },
  {
   "cell_type": "code",
   "execution_count": null,
   "outputs": [],
   "source": [
    "show_top_k_speakers(topic_name, df)"
   ],
   "metadata": {
    "collapsed": false,
    "pycharm": {
     "name": "#%%\n",
     "is_executing": true
    }
   }
  },
  {
   "cell_type": "markdown",
   "source": [
    "### Top speakers per country"
   ],
   "metadata": {
    "collapsed": false
   }
  },
  {
   "cell_type": "code",
   "execution_count": null,
   "outputs": [],
   "source": [
    "for country in countries:\n",
    "        show_top_k_speakers_per_country(topic_name, df, country)"
   ],
   "metadata": {
    "collapsed": false,
    "pycharm": {
     "name": "#%%\n",
     "is_executing": true
    }
   }
  },
  {
   "cell_type": "code",
   "execution_count": null,
   "outputs": [],
   "source": [],
   "metadata": {
    "collapsed": false,
    "pycharm": {
     "name": "#%%\n",
     "is_executing": true
    }
   }
  }
 ],
 "metadata": {
  "kernelspec": {
   "name": "pycharm-f0323b27",
   "language": "python",
   "display_name": "PyCharm (homework_1)"
  },
  "language_info": {
   "codemirror_mode": {
    "name": "ipython",
    "version": 3
   },
   "file_extension": ".py",
   "mimetype": "text/x-python",
   "name": "python",
   "nbconvert_exporter": "python",
   "pygments_lexer": "ipython3",
   "version": "3.8.11"
  }
 },
 "nbformat": 4,
 "nbformat_minor": 4
}